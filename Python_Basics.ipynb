{
  "nbformat": 4,
  "nbformat_minor": 0,
  "metadata": {
    "colab": {
      "provenance": [],
      "authorship_tag": "ABX9TyMY/leHZydIvrCN6FHbr31L",
      "include_colab_link": true
    },
    "kernelspec": {
      "name": "python3",
      "display_name": "Python 3"
    },
    "language_info": {
      "name": "python"
    }
  },
  "cells": [
    {
      "cell_type": "markdown",
      "metadata": {
        "id": "view-in-github",
        "colab_type": "text"
      },
      "source": [
        "<a href=\"https://colab.research.google.com/github/Charan4311/Khub_9_/blob/main/Python_Basics.ipynb\" target=\"_parent\"><img src=\"https://colab.research.google.com/assets/colab-badge.svg\" alt=\"Open In Colab\"/></a>"
      ]
    },
    {
      "cell_type": "markdown",
      "source": [
        "Strings:A string is a sequence of characters enclosed in single quotes ' ' or double quotes \" .**bold text**\n"
      ],
      "metadata": {
        "id": "c6leWUV7U39C"
      }
    },
    {
      "cell_type": "code",
      "source": [
        "message = \"\"\"This is a\n",
        "multiline string in Python.\"\"\"\n",
        "print(message)"
      ],
      "metadata": {
        "id": "eAyP7vVwVHA7",
        "outputId": "e76ef502-2b75-4524-f73b-1d20521b6727",
        "colab": {
          "base_uri": "https://localhost:8080/"
        }
      },
      "execution_count": null,
      "outputs": [
        {
          "output_type": "stream",
          "name": "stdout",
          "text": [
            "This is a\n",
            "multiline string in Python.\n"
          ]
        }
      ]
    },
    {
      "cell_type": "markdown",
      "source": [],
      "metadata": {
        "id": "GlBiIHFg0YW2"
      }
    },
    {
      "cell_type": "markdown",
      "source": [
        "**Multiline Strings** :\n",
        "Use triple quotes ''' or \"\"\" for multiline strings."
      ],
      "metadata": {
        "id": "xIFdIuVhXqQX"
      }
    },
    {
      "cell_type": "code",
      "source": [
        "bio = \"\"\"My name is Charan.\n",
        "I am learning Python.\n",
        "\n",
        "Multiline strings are cool\"\"\"\n",
        "\n",
        "print(bio)\n"
      ],
      "metadata": {
        "colab": {
          "base_uri": "https://localhost:8080/"
        },
        "id": "sho5eDblXfiW",
        "outputId": "e0cd884f-4014-4e91-b912-3aeb48765d25"
      },
      "execution_count": null,
      "outputs": [
        {
          "output_type": "stream",
          "name": "stdout",
          "text": [
            "My name is Charan.\n",
            "I am learning Python.\n",
            "\n",
            "Multiline strings are cool\n"
          ]
        }
      ]
    },
    {
      "cell_type": "markdown",
      "source": [
        " String Indexing\n",
        "Characters in a string are indexed starting from 0."
      ],
      "metadata": {
        "id": "12TSDhPbYMco"
      }
    },
    {
      "cell_type": "code",
      "source": [
        "word = \"Python\"\n",
        "print(word[0])\n",
        "print(word[-1])"
      ],
      "metadata": {
        "colab": {
          "base_uri": "https://localhost:8080/"
        },
        "id": "j_HZ7xKAYNUy",
        "outputId": "20bdd5d6-d122-4f77-a3a4-adc11410ec81"
      },
      "execution_count": null,
      "outputs": [
        {
          "output_type": "stream",
          "name": "stdout",
          "text": [
            "P\n",
            "n\n"
          ]
        }
      ]
    },
    {
      "cell_type": "markdown",
      "source": [
        "**String Slicing** :\n",
        "Extract parts of a string using slicing."
      ],
      "metadata": {
        "id": "r8mVhQpYZUq4"
      }
    },
    {
      "cell_type": "code",
      "source": [
        "s = \"Programming\"\n",
        "print(s[0:6])\n",
        "print(s[3:])\n",
        "print(s[:4])"
      ],
      "metadata": {
        "colab": {
          "base_uri": "https://localhost:8080/"
        },
        "id": "Lnv-nuE8ZbU8",
        "outputId": "dafcfb4d-7547-449f-a7fb-6b2f86e1cc8d"
      },
      "execution_count": null,
      "outputs": [
        {
          "output_type": "stream",
          "name": "stdout",
          "text": [
            "Progra\n",
            "gramming\n",
            "Prog\n"
          ]
        }
      ]
    },
    {
      "cell_type": "markdown",
      "source": [
        "String Length:\n",
        "Use len() to get the length of a string."
      ],
      "metadata": {
        "id": "geRuisLbaKV-"
      }
    },
    {
      "cell_type": "code",
      "source": [
        "text = \"iam charan teja\"\n",
        "print(len(text))"
      ],
      "metadata": {
        "colab": {
          "base_uri": "https://localhost:8080/"
        },
        "id": "XjoFpYyvaJze",
        "outputId": "64a85191-adfc-4569-f39e-328c3384131a"
      },
      "execution_count": null,
      "outputs": [
        {
          "output_type": "stream",
          "name": "stdout",
          "text": [
            "15\n"
          ]
        }
      ]
    },
    {
      "cell_type": "markdown",
      "source": [
        "String Concatenation:\n",
        "Use + to join strings."
      ],
      "metadata": {
        "id": "_Otiltn_bgjd"
      }
    },
    {
      "cell_type": "code",
      "source": [
        "first = \"Good\"\n",
        "second = \"Morning\"\n",
        "result = first + \" \" + second\n",
        "print(result)"
      ],
      "metadata": {
        "colab": {
          "base_uri": "https://localhost:8080/"
        },
        "id": "Ux3Lk_b5bgIq",
        "outputId": "4f6ca2c6-f619-4232-97d5-68400bbd997e"
      },
      "execution_count": null,
      "outputs": [
        {
          "output_type": "stream",
          "name": "stdout",
          "text": [
            "Good Morning\n"
          ]
        }
      ]
    },
    {
      "cell_type": "markdown",
      "source": [
        "String Repetition :\n",
        "Use * to repeat a string."
      ],
      "metadata": {
        "id": "BVpRwyQSf1zR"
      }
    },
    {
      "cell_type": "code",
      "source": [
        "print(\"virushaka\" * 3)"
      ],
      "metadata": {
        "colab": {
          "base_uri": "https://localhost:8080/"
        },
        "id": "BkW1YjHAf5OX",
        "outputId": "eea13dbe-10a4-442a-d7a5-8ae936a899b1"
      },
      "execution_count": null,
      "outputs": [
        {
          "output_type": "stream",
          "name": "stdout",
          "text": [
            "virushakavirushakavirushaka\n"
          ]
        }
      ]
    },
    {
      "cell_type": "markdown",
      "source": [
        "# String methods:\n",
        "upper() – Converts to uppercase\n",
        "\n",
        "lower() – Converts to lowercase\n",
        "\n",
        "capitalize() – Capitalizes first character\n",
        "\n",
        "title() – Capitalizes first letter of each word\n",
        "\n",
        "strip() – Removes whitespace from both ends\n",
        "\n",
        "replace(old, new) – Replaces a substring\n",
        "\n",
        "split(separator) – Splits into a list\n",
        "\n",
        "join() – Joins elements of a list into a string\n",
        "\n",
        " find(sub) – Finds position of substring\n",
        "\n"
      ],
      "metadata": {
        "id": "pFYywup9gD10"
      }
    },
    {
      "cell_type": "code",
      "source": [
        "text = \"hello\"\n",
        "print(text.upper())\n",
        "\n",
        "text = \"HELLO\"\n",
        "print(text.lower())\n",
        "\n",
        "text = \"python programming\"\n",
        "print(text.capitalize())\n",
        "\n",
        "text = \"learn python fast\"\n",
        "print(text.title())\n",
        "\n",
        "text = \"  hello world  \"\n",
        "print(text.strip())\n",
        "\n",
        "text = \"I like Java\"\n",
        "print(text.replace(\"Java\", \"Python\"))\n",
        "\n",
        "text = \"apple,banana,grape\"\n",
        "print(text.split(\",\"))\n",
        "\n",
        "words = ['Python', 'is', 'fun']\n",
        "print(\" \".join(words))\n",
        "\n",
        "text = \"Learn Python\"\n",
        "print(text.find(\"Python\"))\n",
        "\n"
      ],
      "metadata": {
        "colab": {
          "base_uri": "https://localhost:8080/"
        },
        "id": "Jt1ISfVfhIsW",
        "outputId": "766cea47-4786-43c9-cffd-2ce1c06f06bb"
      },
      "execution_count": null,
      "outputs": [
        {
          "output_type": "stream",
          "name": "stdout",
          "text": [
            "HELLO\n",
            "hello\n",
            "Python programming\n",
            "Learn Python Fast\n",
            "hello world\n",
            "I like Python\n",
            "['apple', 'banana', 'grape']\n",
            "Python is fun\n",
            "6\n"
          ]
        }
      ]
    },
    {
      "cell_type": "markdown",
      "source": [
        "# OPERATORS\n",
        "In python different types of operaters\n",
        "- Arithmetic\n",
        "- Assignment\n",
        "- Comparison\n",
        "- Logic\n",
        "- Identity\n",
        "- Membership\n",
        "- Bitwise\n"
      ],
      "metadata": {
        "id": "JjMZcovrmMsH"
      }
    },
    {
      "cell_type": "markdown",
      "source": [
        "##1. Arithmetic Operators:\n",
        "These operators are used to perform mathematical operations.\n",
        "\n",
        "Addition\n",
        "\n",
        "\n",
        "Subtraction\n",
        "\n",
        "\n",
        "Multiplication\n",
        "\n",
        "\n",
        "Division\n",
        "\n",
        "\n",
        "Modulus\n",
        "\n",
        "Exponentiation\n",
        "\n",
        "Floor Division"
      ],
      "metadata": {
        "id": "sHxEcfK5n-J2"
      }
    },
    {
      "cell_type": "code",
      "source": [
        "a = 10\n",
        "b = 3\n",
        "\n",
        "print(a + b)\n",
        "print(a - b)\n",
        "print(a * b)\n",
        "print(a / b)\n",
        "print(a % b)\n",
        "print(a ** b)\n",
        "print(a // b)"
      ],
      "metadata": {
        "colab": {
          "base_uri": "https://localhost:8080/"
        },
        "id": "LpN81QmTk0ww",
        "outputId": "31a76231-225c-4f41-a619-16695681e890"
      },
      "execution_count": null,
      "outputs": [
        {
          "output_type": "stream",
          "name": "stdout",
          "text": [
            "13\n",
            "7\n",
            "30\n",
            "3.3333333333333335\n",
            "1\n",
            "1000\n",
            "3\n"
          ]
        }
      ]
    },
    {
      "cell_type": "markdown",
      "source": [
        "# 2. Comparison Operators:\n",
        "These operators are used to compare two values and return a Boolean result.\n",
        "\n",
        "== : Equal to\n",
        "\n",
        "!= : Not equal to\n",
        "\n",
        "(> ): Greater than\n",
        "\n",
        "< : Less than\n",
        "\n",
        "(>=): Greater than or equal to\n",
        "\n",
        "<= : Less than or equal to"
      ],
      "metadata": {
        "id": "UcQHwaPzf42Z"
      }
    },
    {
      "cell_type": "code",
      "source": [
        "a = 10\n",
        "b = 3\n",
        "\n",
        "print(a == b)\n",
        "print(a != b)\n",
        "print(a > b)\n",
        "print(a < b)\n",
        "print(a >= b)\n",
        "print(a <= b)\n"
      ],
      "metadata": {
        "id": "GAlbRBO_BnOp",
        "colab": {
          "base_uri": "https://localhost:8080/"
        },
        "outputId": "b5d3da38-04d7-4de7-abe3-ef9636bb747e"
      },
      "execution_count": null,
      "outputs": [
        {
          "output_type": "stream",
          "name": "stdout",
          "text": [
            "False\n",
            "True\n",
            "True\n",
            "False\n",
            "True\n",
            "False\n"
          ]
        }
      ]
    },
    {
      "cell_type": "markdown",
      "source": [
        "# 3. Logical Operators:\n",
        " These operators are used to perform logical operations and return a Boolean result.\n",
        "\n",
        "and : Returns True if both statements are true\n",
        "\n",
        "or : Returns True if one of the statements is true\n",
        "\n",
        "not : Reverses the result, returns False if the result is true"
      ],
      "metadata": {
        "id": "qlhf9_VIokY3"
      }
    },
    {
      "cell_type": "code",
      "source": [
        "x = True\n",
        "y = False\n",
        "\n",
        "print(x and y)\n",
        "print(x or y)\n",
        "print(not x)"
      ],
      "metadata": {
        "colab": {
          "base_uri": "https://localhost:8080/"
        },
        "id": "jYe5Ataeo_gd",
        "outputId": "0dc7acfb-6e07-4f68-f919-04a8a41a3c55"
      },
      "execution_count": null,
      "outputs": [
        {
          "output_type": "stream",
          "name": "stdout",
          "text": [
            "False\n",
            "True\n",
            "False\n"
          ]
        }
      ]
    },
    {
      "cell_type": "markdown",
      "source": [
        "4. Bitwise Operators:\n",
        "These operators are used to perform bit-level operations on integers.\n",
        "\n",
        "& : AND\n",
        "\n",
        "| : OR\n",
        "\n",
        "^ : XOR\n",
        "\n",
        "~ : NOT\n",
        "\n",
        "<< : Zero fill left shift\n",
        "\n",
        "(>>) : Signed right shift\n",
        "\n",
        "\n"
      ],
      "metadata": {
        "id": "uCYg7bF_pIs1"
      }
    },
    {
      "cell_type": "code",
      "source": [
        "a = 10\n",
        "b = 4\n",
        "\n",
        "print(a & b)\n",
        "print(a | b)\n",
        "print(a ^ b)\n",
        "print(~a)\n",
        "print(a << 1)\n",
        "print(a >> 1)\n",
        "\n"
      ],
      "metadata": {
        "colab": {
          "base_uri": "https://localhost:8080/"
        },
        "id": "tf89q5vIpITR",
        "outputId": "65b3a7c6-0d82-45e7-eafa-73d3179f9c8a"
      },
      "execution_count": null,
      "outputs": [
        {
          "output_type": "stream",
          "name": "stdout",
          "text": [
            "0\n",
            "14\n",
            "14\n",
            "-11\n",
            "20\n",
            "5\n"
          ]
        }
      ]
    },
    {
      "cell_type": "markdown",
      "source": [
        "# 5. Assignment Operators:\n",
        "\n",
        "These operators are used to assign values to variables.\n",
        "\n",
        "= : Assign\n",
        "\n",
        "+= : Add and assign\n",
        "\n",
        "-= : Subtract and assign\n",
        "\n",
        "*= : Multiply and assign\n",
        "\n",
        "/= : Divide and assign\n",
        "\n",
        "%= : Modulus and assign\n",
        "\n",
        "**= : Exponentiation and assign\n",
        "\n",
        "//= : Floor division and assign"
      ],
      "metadata": {
        "id": "Nt5akRIKpzgw"
      }
    },
    {
      "cell_type": "code",
      "source": [
        "a = 10\n",
        "a += 3\n",
        "print(a)\n",
        "\n",
        "a -= 2\n",
        "print(a)\n",
        "\n",
        "a *= 2\n",
        "print(a)\n",
        "\n",
        "a /= 4\n",
        "print(a)\n",
        "\n",
        "a %= 3\n",
        "print(a)\n",
        "\n",
        "a **= 2\n",
        "print(a)\n",
        "\n",
        "a //= 2\n",
        "print(a)"
      ],
      "metadata": {
        "colab": {
          "base_uri": "https://localhost:8080/"
        },
        "id": "twPv0X25qAzT",
        "outputId": "7f4761ff-5884-4928-fc80-3c7c1390af77"
      },
      "execution_count": null,
      "outputs": [
        {
          "output_type": "stream",
          "name": "stdout",
          "text": [
            "13\n",
            "11\n",
            "22\n",
            "5.5\n",
            "2.5\n",
            "6.25\n",
            "3.0\n"
          ]
        }
      ]
    },
    {
      "cell_type": "markdown",
      "source": [
        "# 6.membership Operators:\n",
        "These operators are used to test if a sequence contains a value.\n",
        "\n",
        "in : Returns True if a sequence with the specified value is present in the object\n",
        "\n",
        "not in : Returns True if a sequence with the specified value is not present in the object\n",
        "\n",
        "\n"
      ],
      "metadata": {
        "id": "Eq1lIUz4qaGP"
      }
    },
    {
      "cell_type": "code",
      "source": [
        "x = [\"apple\", \"banana\", \"cherry\"]\n",
        "\n",
        "print(\"banana\" in x)\n",
        "print(\"mango\" not in x)"
      ],
      "metadata": {
        "colab": {
          "base_uri": "https://localhost:8080/"
        },
        "id": "OUQgm0hCqjaA",
        "outputId": "9da5505d-daa8-479a-b8a6-db0f74d5dee2"
      },
      "execution_count": null,
      "outputs": [
        {
          "output_type": "stream",
          "name": "stdout",
          "text": [
            "True\n",
            "True\n"
          ]
        }
      ]
    },
    {
      "cell_type": "markdown",
      "source": [
        "# Identity Operators:\n",
        "These operators are used to compare the memory locations of two objects.\n",
        "\n",
        "is : Returns True if both variables are the same object\n",
        "\n",
        "is not : Returns True if both variables are not the same object\n",
        "\n",
        "\n"
      ],
      "metadata": {
        "id": "CAwz_0bGqxHt"
      }
    },
    {
      "cell_type": "code",
      "source": [
        "x = [\"apple\", \"banana\", \"cherry\"]\n",
        "y = [\"apple\", \"banana\", \"cherry\"]\n",
        "z = x\n",
        "\n",
        "print(x is z)\n",
        "print(x is y)\n",
        "print(x == y)\n",
        "print(x is not y)\n",
        "print(x is not z)\n"
      ],
      "metadata": {
        "colab": {
          "base_uri": "https://localhost:8080/"
        },
        "id": "8bGn_AA2qzWP",
        "outputId": "97af03e7-32f6-4778-b8b3-ad27f9c5c144"
      },
      "execution_count": null,
      "outputs": [
        {
          "output_type": "stream",
          "name": "stdout",
          "text": [
            "True\n",
            "False\n",
            "True\n",
            "True\n",
            "False\n"
          ]
        }
      ]
    },
    {
      "cell_type": "markdown",
      "source": [
        "# BOOLEAN\n",
        "In Python, the Boolean data type is used to represent one of two values: True or False. Booleans are commonly used in conditional statements and control flow to determine the truthiness of an expression or variable.\n",
        "\n"
      ],
      "metadata": {
        "id": "fbWTn4wRrF42"
      }
    },
    {
      "cell_type": "code",
      "source": [
        "is_sunny = True\n",
        "is_raining = False\n",
        "print(is_sunny)\n",
        "print(is_raining)\n"
      ],
      "metadata": {
        "colab": {
          "base_uri": "https://localhost:8080/"
        },
        "id": "GiWfydTUrItQ",
        "outputId": "195024c5-1c07-452f-f09d-62b13033c8f2"
      },
      "execution_count": null,
      "outputs": [
        {
          "output_type": "stream",
          "name": "stdout",
          "text": [
            "True\n",
            "False\n"
          ]
        }
      ]
    },
    {
      "cell_type": "markdown",
      "source": [
        "# List Methods\n",
        "append()-Adds an element at the end of the list\n",
        "\n",
        "clear()-Removes all the elements from the list\n",
        "\n",
        "copy()-Returns a copy of the list\n",
        "\n",
        "count()-Returns the number of elements with the specified value\n",
        "\n",
        "extend()-Add the elements of a list (or any iterable), to the end of the current list\n",
        "\n",
        "index()-Returns the index of the first element with the specified value\n",
        "\n",
        "insert()-Adds an element at the specified position\n",
        "\n",
        "pop()-Removes the element at the specified position\n",
        "\n",
        "remove()-Removes the item with the specified value\n",
        "\n",
        "reverse()-Reverses the order of the list\n",
        "\n",
        "sort()-Sorts the list\n",
        "\n",
        "len()-Returns the number of elements in the list."
      ],
      "metadata": {
        "id": "sytiCANerYu4"
      }
    },
    {
      "cell_type": "markdown",
      "source": [
        "# append"
      ],
      "metadata": {
        "id": "BZI511n5r3Ly"
      }
    },
    {
      "cell_type": "code",
      "source": [
        "my_list = [1, 2, 3]\n",
        "my_list.append(4)\n",
        "print(my_list)"
      ],
      "metadata": {
        "colab": {
          "base_uri": "https://localhost:8080/"
        },
        "id": "-WGZebBwrxNC",
        "outputId": "a470da80-38fc-4626-bcc5-5f3a47fc3864"
      },
      "execution_count": null,
      "outputs": [
        {
          "output_type": "stream",
          "name": "stdout",
          "text": [
            "[1, 2, 3, 4]\n"
          ]
        }
      ]
    },
    {
      "cell_type": "markdown",
      "source": [
        "# extend"
      ],
      "metadata": {
        "id": "980E7pRCsBfR"
      }
    },
    {
      "cell_type": "code",
      "source": [
        "my_list = [1, 2, 3]\n",
        "my_list.extend([4, 5])\n",
        "print(my_list)\n"
      ],
      "metadata": {
        "colab": {
          "base_uri": "https://localhost:8080/"
        },
        "id": "yTp5PyKisFCw",
        "outputId": "7f30c907-bbcb-4900-a748-15dc2e49bd31"
      },
      "execution_count": null,
      "outputs": [
        {
          "output_type": "stream",
          "name": "stdout",
          "text": [
            "[1, 2, 3, 4, 5]\n"
          ]
        }
      ]
    },
    {
      "cell_type": "markdown",
      "source": [
        "# insert"
      ],
      "metadata": {
        "id": "oJFq0tdisOIE"
      }
    },
    {
      "cell_type": "code",
      "source": [
        "my_list = [1, 2, 3]\n",
        "my_list.insert(1, 'a')\n",
        "print(my_list)"
      ],
      "metadata": {
        "colab": {
          "base_uri": "https://localhost:8080/"
        },
        "id": "Kw62PEgosSDc",
        "outputId": "643db10f-90e6-425b-88c2-3afa0877d252"
      },
      "execution_count": null,
      "outputs": [
        {
          "output_type": "stream",
          "name": "stdout",
          "text": [
            "[1, 'a', 2, 3]\n"
          ]
        }
      ]
    },
    {
      "cell_type": "markdown",
      "source": [
        "# REMOVE\n"
      ],
      "metadata": {
        "id": "6mnNwD-e2A0K"
      }
    },
    {
      "cell_type": "code",
      "source": [
        "my_list = [1, 2, 3, 2]\n",
        "my_list.remove(2)\n",
        "print(my_list)"
      ],
      "metadata": {
        "colab": {
          "base_uri": "https://localhost:8080/"
        },
        "id": "84lHTDbD2SqO",
        "outputId": "a92f78a4-7fc6-470e-a2c0-afbaa4c5d257"
      },
      "execution_count": null,
      "outputs": [
        {
          "output_type": "stream",
          "name": "stdout",
          "text": [
            "[1, 3, 2]\n"
          ]
        }
      ]
    },
    {
      "cell_type": "markdown",
      "source": [
        "# POP"
      ],
      "metadata": {
        "id": "iFkzki3s2dTL"
      }
    },
    {
      "cell_type": "code",
      "source": [
        "my_list = [1, 2, 3]\n",
        "element = my_list.pop(1)\n",
        "print(element)\n",
        "print(my_list)"
      ],
      "metadata": {
        "colab": {
          "base_uri": "https://localhost:8080/"
        },
        "id": "GhkqpryU2f4h",
        "outputId": "ff52f383-2da9-4455-e22c-52e1cebb2538"
      },
      "execution_count": null,
      "outputs": [
        {
          "output_type": "stream",
          "name": "stdout",
          "text": [
            "2\n",
            "[1, 3]\n"
          ]
        }
      ]
    },
    {
      "cell_type": "markdown",
      "source": [
        "# Length"
      ],
      "metadata": {
        "id": "kW3pag1K2jRa"
      }
    },
    {
      "cell_type": "code",
      "source": [
        "my_list = [1, 2, 3]\n",
        "length=len(my_list)\n",
        "print(length)"
      ],
      "metadata": {
        "colab": {
          "base_uri": "https://localhost:8080/"
        },
        "id": "AjPbyujA2oqc",
        "outputId": "5e32bef2-648b-4999-cd0e-ee176c4c5440"
      },
      "execution_count": null,
      "outputs": [
        {
          "output_type": "stream",
          "name": "stdout",
          "text": [
            "3\n"
          ]
        }
      ]
    },
    {
      "cell_type": "markdown",
      "source": [
        "# reverse"
      ],
      "metadata": {
        "id": "7wA6cOqM2tZb"
      }
    },
    {
      "cell_type": "code",
      "source": [
        "my_list = [1, 2, 3]\n",
        "my_list.reverse()\n",
        "print(my_list)"
      ],
      "metadata": {
        "colab": {
          "base_uri": "https://localhost:8080/"
        },
        "id": "k2pM3ZMQ2wrj",
        "outputId": "6f20347f-e00c-43db-e234-b5a6bafd20a2"
      },
      "execution_count": null,
      "outputs": [
        {
          "output_type": "stream",
          "name": "stdout",
          "text": [
            "[3, 2, 1]\n"
          ]
        }
      ]
    },
    {
      "cell_type": "markdown",
      "source": [
        "# Dictionary Methods\n",
        "dict[key] = value-Adds a key-value pair to the dictionary.\n",
        "\n",
        "pop(key)-Removes the key and returns its value.\n",
        "\n",
        "del dict[key]-Deletes a key-value pair.\n",
        "\n",
        "clear()-Removes all items from the dictionary.\n",
        "\n",
        "keys()-Returns a view object of all the keys in the dictionary.\n",
        "\n",
        "values()-Returns a view object of all the values in the dictionary.\n",
        "\n",
        "items()-Returns a view object of all the key-value pairs in the dictionary. python\n",
        "\n",
        "copy() Returns a copy of the dictionary\n",
        "\n",
        "fromkeys() Returns a dictionary with the specified keys and value\n",
        "\n",
        "get() Returns the value of the specified key\n",
        "\n",
        "popitem() Removes the last inserted key-value pair"
      ],
      "metadata": {
        "id": "XiDjeqoK3LzC"
      }
    },
    {
      "cell_type": "code",
      "source": [
        "d = {}\n",
        "\n",
        "d[\"name\"] = \"John\"\n",
        "d[\"age\"] = 30\n",
        "\n",
        "print(d.get(\"name\"))\n",
        "print(d.keys())\n",
        "print(d.values())\n",
        "print(d.items())\n",
        "\n",
        "d2 = d.copy()\n",
        "print(d2)\n",
        "\n",
        "d.pop(\"age\")\n",
        "print(d)\n",
        "\n",
        "del d[\"name\"]\n",
        "print(d)\n",
        "\n",
        "d3 = dict.fromkeys([\"a\", \"b\"], 1)\n",
        "print(d3)\n",
        "\n",
        "d3.clear()\n",
        "print(d3)\n"
      ],
      "metadata": {
        "colab": {
          "base_uri": "https://localhost:8080/"
        },
        "id": "vEnUKnCx3g0u",
        "outputId": "8fbd96bd-a775-485a-ff1c-5252afb85ec6"
      },
      "execution_count": null,
      "outputs": [
        {
          "output_type": "stream",
          "name": "stdout",
          "text": [
            "John\n",
            "dict_keys(['name', 'age'])\n",
            "dict_values(['John', 30])\n",
            "dict_items([('name', 'John'), ('age', 30)])\n",
            "{'name': 'John', 'age': 30}\n",
            "{'name': 'John'}\n",
            "{}\n",
            "{'a': 1, 'b': 1}\n",
            "{}\n"
          ]
        }
      ]
    },
    {
      "cell_type": "markdown",
      "source": [
        "# Tuples Methods\n",
        "count()-Returns the number of times a specified value occurs in a tuple\n",
        "\n",
        "index()-Searches the tuple for a specified value and returns the position of where it was found"
      ],
      "metadata": {
        "id": "oB4JVTTg3rwd"
      }
    },
    {
      "cell_type": "code",
      "source": [
        "t = (1, 2, 3, 2, 4, 2)\n",
        "\n",
        "print(t.count(2))\n",
        "print(t.index(3))\n"
      ],
      "metadata": {
        "colab": {
          "base_uri": "https://localhost:8080/"
        },
        "id": "17DhzmSX34w9",
        "outputId": "dd49d726-7e59-4cc2-e0e6-34359fff6b55"
      },
      "execution_count": null,
      "outputs": [
        {
          "output_type": "stream",
          "name": "stdout",
          "text": [
            "3\n",
            "2\n"
          ]
        }
      ]
    },
    {
      "cell_type": "markdown",
      "source": [],
      "metadata": {
        "id": "hwAxFRWa2eyC"
      }
    },
    {
      "cell_type": "markdown",
      "source": [],
      "metadata": {
        "id": "aKT36vsV45kB"
      }
    },
    {
      "cell_type": "markdown",
      "source": [
        "# Set Methods\n",
        "add()- Adds an element to the set.\n",
        "\n",
        "remove()-Removes a specific element from the set. Raises a KeyError if the element is not found.\n",
        "\n",
        "discard()-Removes a specific element from the set, but does not raise an error if the element is not found.\n",
        "\n",
        "pop()-Removes and returns an arbitrary element from the set.\n",
        "\n",
        "clear()-Removes all elements from the set.\n",
        "\n",
        "union()-Returns a set containing all elements from both sets.\n",
        "\n",
        "intersection()-Returns a set containing only elements that are common in both sets.\n",
        "\n"
      ],
      "metadata": {
        "id": "Y0G5e7994m6G"
      }
    },
    {
      "cell_type": "code",
      "source": [
        "s1 = {1, 2, 3}\n",
        "s2 = {3, 4, 5}\n",
        "\n",
        "s1.add(6)\n",
        "print(s1)\n",
        "\n",
        "s1.remove(2)\n",
        "print(s1)\n",
        "\n",
        "s1.discard(10)   # No error if 10 not found\n",
        "print(s1)\n",
        "\n",
        "s1.pop()\n",
        "print(s1)\n",
        "\n",
        "s1.clear()\n",
        "print(s1)\n",
        "\n",
        "# Using union and intersection\n",
        "a = {1, 2, 3}\n",
        "b = {3, 4, 5}\n",
        "\n",
        "print(a.union(b))         # All elements\n",
        "print(a.intersection(b))  # Common elements\n"
      ],
      "metadata": {
        "colab": {
          "base_uri": "https://localhost:8080/"
        },
        "id": "BHaHZbT84zMi",
        "outputId": "d7ba440c-dd7e-43f3-99fc-aa868f8daf08"
      },
      "execution_count": null,
      "outputs": [
        {
          "output_type": "stream",
          "name": "stdout",
          "text": [
            "{1, 2, 3, 6}\n",
            "{1, 3, 6}\n",
            "{1, 3, 6}\n",
            "{3, 6}\n",
            "set()\n",
            "{1, 2, 3, 4, 5}\n",
            "{3}\n"
          ]
        }
      ]
    },
    {
      "cell_type": "markdown",
      "source": [
        "# CONDITIONS\n",
        "In Python, conditions are used to execute code based on whether certain criteria are met. This is typically done using if, elif, and else statements. You can also use conditional expressions and ternary operators for concise conditional logic. Here’s a comprehensive overview of different types of conditional constructs in Python:"
      ],
      "metadata": {
        "id": "nfRu1y9U5ppj"
      }
    },
    {
      "cell_type": "markdown",
      "source": [
        "# 1. if Statement:\n",
        "The if statement evaluates a condition and executes the block of code if the condition is True."
      ],
      "metadata": {
        "id": "0LX6buvu58OF"
      }
    },
    {
      "cell_type": "code",
      "source": [
        "x = 10\n",
        "\n",
        "if x > 5:\n",
        "    print(\"x is greater than 5\")\n"
      ],
      "metadata": {
        "colab": {
          "base_uri": "https://localhost:8080/"
        },
        "id": "evXvOcyQ55Q5",
        "outputId": "ff837bbd-2c33-41bf-df25-8b335b50a65f"
      },
      "execution_count": null,
      "outputs": [
        {
          "output_type": "stream",
          "name": "stdout",
          "text": [
            "x is greater than 5\n"
          ]
        }
      ]
    },
    {
      "cell_type": "markdown",
      "source": [
        "# 2. if-else Statement:\n",
        "The if-else statement provides an alternative block of code to execute if the condition is False."
      ],
      "metadata": {
        "id": "HPRwncYc6hQp"
      }
    },
    {
      "cell_type": "code",
      "source": [
        "x = 4\n",
        "\n",
        "if x > 5:\n",
        "    print(\"x is greater than 5\")\n",
        "else:\n",
        "    print(\"x is not greater than 5\")\n"
      ],
      "metadata": {
        "colab": {
          "base_uri": "https://localhost:8080/"
        },
        "id": "GbwGo5IR6nIE",
        "outputId": "d6bd0c4c-a3bf-4922-b6f3-abc572f399ee"
      },
      "execution_count": null,
      "outputs": [
        {
          "output_type": "stream",
          "name": "stdout",
          "text": [
            "x is not greater than 5\n"
          ]
        }
      ]
    },
    {
      "cell_type": "markdown",
      "source": [
        "# 3.. if-elif-else Statement:\n",
        "The if-elif-else statement allows you to check multiple conditions. It executes the block of code for the first condition that is True. If none of the conditions are True, it executes the else block.\n",
        "\n"
      ],
      "metadata": {
        "id": "_c7bxGUy6s5x"
      }
    },
    {
      "cell_type": "code",
      "source": [
        "x = 7\n",
        "\n",
        "if x > 10:\n",
        "    print(\"x is greater than 10\")\n",
        "elif x == 7:\n",
        "    print(\"x is 7\")\n",
        "else:\n",
        "    print(\"x is less than 10 and not 7\")"
      ],
      "metadata": {
        "colab": {
          "base_uri": "https://localhost:8080/"
        },
        "id": "a2Wybwd_6v9f",
        "outputId": "83b53eca-4a60-4367-98da-1f8191cd9af0"
      },
      "execution_count": null,
      "outputs": [
        {
          "output_type": "stream",
          "name": "stdout",
          "text": [
            "x is 7\n"
          ]
        }
      ]
    },
    {
      "cell_type": "markdown",
      "source": [],
      "metadata": {
        "id": "MdoFNFDu63Pb"
      }
    },
    {
      "cell_type": "markdown",
      "source": [
        "# 4. Nested if Statements:\n",
        "You can nest if statements within another if statement to check multiple conditions."
      ],
      "metadata": {
        "id": "yGV54IN468dT"
      }
    },
    {
      "cell_type": "code",
      "source": [
        "x = 15\n",
        "y = 10\n",
        "\n",
        "if x > 10:\n",
        "    if y > 5:\n",
        "        print(\"x is greater than 10 and y is greater than 5\")\n",
        "    else:\n",
        "        print(\"x is greater than 10 but y is not greater than 5\")\n",
        "else:\n",
        "    print(\"x is not greater than 10\")"
      ],
      "metadata": {
        "colab": {
          "base_uri": "https://localhost:8080/"
        },
        "id": "Udmun7nl6-Ol",
        "outputId": "0b9c4ae4-ce32-4e00-d75b-aac4eadb00b9"
      },
      "execution_count": null,
      "outputs": [
        {
          "output_type": "stream",
          "name": "stdout",
          "text": [
            "x is greater than 10 and y is greater than 5\n"
          ]
        }
      ]
    },
    {
      "cell_type": "markdown",
      "source": [
        "# Match case\n",
        "match-case is a control flow structure introduced in Python 3.10 that works like a switch-case in other languages. It allows you to match a variable against patterns and execute code based on the matched pattern."
      ],
      "metadata": {
        "id": "slt_bhMS7A9R"
      }
    },
    {
      "cell_type": "code",
      "source": [
        "x = 2\n",
        "\n",
        "match x:\n",
        "    case 1:\n",
        "        print(\"One\")\n",
        "    case 2:\n",
        "        print(\"Two\")\n",
        "    case 3:\n",
        "        print(\"Three\")\n",
        "    case _:\n",
        "        print(\"Something else\")\n"
      ],
      "metadata": {
        "colab": {
          "base_uri": "https://localhost:8080/"
        },
        "id": "NXOaJSyl7eRK",
        "outputId": "75459282-825b-4147-8c5d-4eef96fcecd1"
      },
      "execution_count": null,
      "outputs": [
        {
          "output_type": "stream",
          "name": "stdout",
          "text": [
            "Two\n"
          ]
        }
      ]
    }
  ]
}