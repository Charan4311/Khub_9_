{
  "cells": [
    {
      "cell_type": "markdown",
      "metadata": {
        "id": "view-in-github",
        "colab_type": "text"
      },
      "source": [
        "<a href=\"https://colab.research.google.com/github/Charan4311/Khub_9_/blob/main/Day_3_ipynb.ipynb\" target=\"_parent\"><img src=\"https://colab.research.google.com/assets/colab-badge.svg\" alt=\"Open In Colab\"/></a>"
      ]
    },
    {
      "cell_type": "code",
      "source": [
        "\n",
        "resources = {\"water\": 800, \"milk\": 800, \"coffee\": 400}\n",
        "menu = {\n",
        "    \"espresso\": {\"ingredients\": {\"water\": 150, \"coffee\": 25}, \"cost\": 10},\n",
        "    \"latte\": {\"ingredients\": {\"water\": 250, \"milk\": 200, \"coffee\": 24}, \"cost\": 20},\n",
        "    \"cappuccino\": {\"ingredients\": {\"water\": 250, \"milk\": 100, \"coffee\": 24}, \"cost\": 25}\n",
        "}\n",
        "money = 0\n",
        "\n",
        "def show_report():\n",
        "    print(f\"Water: {resources['water']}ml\\nMilk: {resources['milk']}ml\\nCoffee: {resources['coffee']}g\\nMoney: ₹{money}\")\n",
        "\n",
        "def is_enough(ingredients):\n",
        "    for item in ingredients:\n",
        "        if resources.get(item, 0) < ingredients[item]:\n",
        "            print(f\"Sorry, not enough {item}.\")\n",
        "            return False\n",
        "    return True\n",
        "\n",
        "def process_order(drink_name):\n",
        "    global money\n",
        "    drink = menu[drink_name]\n",
        "    if not is_enough(drink[\"ingredients\"]):\n",
        "        return\n",
        "    amount = int(input(f\"Insert ₹ for {drink_name} (cost ₹{drink['cost']}): \"))\n",
        "    if amount < drink[\"cost\"]:\n",
        "        print(\"Not enough money. Refunded.\")\n",
        "        return\n",
        "    for item in drink[\"ingredients\"]:\n",
        "        resources[item] -= drink[\"ingredients\"][item]\n",
        "    money += drink[\"cost\"]\n",
        "    print(f\"{drink_name.title()} is ready . Change: ₹{amount - drink['cost']}\")\n",
        "\n",
        "\n",
        "while True:\n",
        "    choice = input(\"\\nChoose (espresso/latte/cappuccino/report/off): \").lower()\n",
        "    if choice == \"off\":\n",
        "        break\n",
        "    elif choice == \"report\":\n",
        "        show_report()\n",
        "    elif choice in menu:\n",
        "        process_order(choice)\n",
        "    else:\n",
        "        print(\"Invalid choice.\")\n"
      ],
      "metadata": {
        "colab": {
          "base_uri": "https://localhost:8080/"
        },
        "id": "XckaFLh43rSL",
        "outputId": "35290d67-52d1-4788-86ca-5d09af6a5781"
      },
      "execution_count": null,
      "outputs": [
        {
          "output_type": "stream",
          "name": "stdout",
          "text": [
            "\n",
            "Choose (espresso/latte/cappuccino/report/off): cappuccino\n",
            "Insert ₹ for cappuccino (cost ₹25): 30\n",
            "Cappuccino is ready . Change: ₹5\n"
          ]
        }
      ]
    }
  ],
  "metadata": {
    "colab": {
      "provenance": [],
      "authorship_tag": "ABX9TyMhBNfB/dfecLVh6pHEUaMV",
      "include_colab_link": true
    },
    "kernelspec": {
      "display_name": "Python 3",
      "name": "python3"
    },
    "language_info": {
      "name": "python"
    }
  },
  "nbformat": 4,
  "nbformat_minor": 0
}