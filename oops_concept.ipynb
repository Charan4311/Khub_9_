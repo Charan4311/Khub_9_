{
  "nbformat": 4,
  "nbformat_minor": 0,
  "metadata": {
    "colab": {
      "provenance": [],
      "authorship_tag": "ABX9TyNEwOjhlOXytXLow8fWSPgW",
      "include_colab_link": true
    },
    "kernelspec": {
      "name": "python3",
      "display_name": "Python 3"
    },
    "language_info": {
      "name": "python"
    }
  },
  "cells": [
    {
      "cell_type": "markdown",
      "metadata": {
        "id": "view-in-github",
        "colab_type": "text"
      },
      "source": [
        "<a href=\"https://colab.research.google.com/github/Charan4311/Khub_9_/blob/main/oops_concept.ipynb\" target=\"_parent\"><img src=\"https://colab.research.google.com/assets/colab-badge.svg\" alt=\"Open In Colab\"/></a>"
      ]
    },
    {
      "cell_type": "code",
      "execution_count": 6,
      "metadata": {
        "id": "y23kteSjVrMy"
      },
      "outputs": [],
      "source": [
        ""
      ]
    },
    {
      "cell_type": "markdown",
      "source": [
        "\n",
        "# What is OOP?\n",
        "OOP = Object-Oriented Programming — a style of programming where we structure code around objects rather than just functions and logic.\n",
        "```\n",
        "\n",
        "Class – A blueprint for creating objects.\n",
        "Example: \"Car\" is a blueprint that describes what every car should have.\n",
        "\n",
        "Object – An actual thing created from the blueprint.\n",
        "Example: Your specific red Honda is an object of the \"Car\" class.\n",
        "\n",
        "Attributes – Variables that store data about the object.\n",
        "Example: color = \"red\", speed = 120 km/h.\n",
        "\n",
        "Methods – Functions that define what the object can do.\n",
        "Example: start(), stop(), honk()."
      ],
      "metadata": {
        "id": "OGtj1YJdYPYA"
      }
    },
    {
      "cell_type": "code",
      "source": [
        "class Car:\n",
        "    def __init__(self, brand, color):\n",
        "        self.brand = brand\n",
        "        self.color = color\n",
        "\n",
        "    def start(self):\n",
        "        print(f\"{self.color} {self.brand} is starting...\")\n",
        "\n",
        "car1 = Car(\"Tesla\", \"Red\")\n",
        "car2 = Car(\"BMW\", \"Blue\")\n",
        "\n",
        "print(car1.brand)\n",
        "print(car2.color)\n",
        "\n",
        "car1.start()\n",
        "car2.start()\n"
      ],
      "metadata": {
        "colab": {
          "base_uri": "https://localhost:8080/"
        },
        "id": "q3LfpO8ljDSW",
        "outputId": "2c3a019c-7cf8-4579-a8ad-6485e846fe47"
      },
      "execution_count": 7,
      "outputs": [
        {
          "output_type": "stream",
          "name": "stdout",
          "text": [
            "Tesla\n",
            "Blue\n",
            "Red Tesla is starting...\n",
            "Blue BMW is starting...\n"
          ]
        }
      ]
    },
    {
      "cell_type": "markdown",
      "source": [
        "# 1. Encapsulation\n",
        "Encapsulation means wrapping attributes (data) and methods (functions) inside a class so that data is protected and can’t be accessed directly from outside.\n",
        "\n"
      ],
      "metadata": {
        "id": "BoLyw5VdjTSe"
      }
    },
    {
      "cell_type": "code",
      "source": [
        "class Person:\n",
        "    def __init__(self, name):\n",
        "        self.__name = name\n",
        "\n",
        "    def get_name(self):\n",
        "        return self.__name\n",
        "\n",
        "p = Person(\"Alice\")\n",
        "print(p.get_name())\n"
      ],
      "metadata": {
        "colab": {
          "base_uri": "https://localhost:8080/"
        },
        "id": "FFZcukD8w0EX",
        "outputId": "2c505d79-3e19-4e23-d106-155202fa36cc"
      },
      "execution_count": 8,
      "outputs": [
        {
          "output_type": "stream",
          "name": "stdout",
          "text": [
            "Alice\n"
          ]
        }
      ]
    },
    {
      "cell_type": "markdown",
      "source": [
        "# 2.Abstraction\n",
        "Hiding the internal details of a process and showing only what’s necessary."
      ],
      "metadata": {
        "id": "aCMp1r-dw5ux"
      }
    },
    {
      "cell_type": "code",
      "source": [
        "from abc import ABC, abstractmethod\n",
        "\n",
        "class Shape(ABC):\n",
        "    @abstractmethod\n",
        "    def area(self):\n",
        "        pass\n",
        "\n",
        "class Square(Shape):\n",
        "    def __init__(self, side):\n",
        "        self.side = side\n",
        "\n",
        "    def area(self):\n",
        "        return self.side * self.side\n",
        "\n",
        "sq = Square(5)\n",
        "print(sq.area())\n"
      ],
      "metadata": {
        "colab": {
          "base_uri": "https://localhost:8080/"
        },
        "id": "1SGIdlcbxIoc",
        "outputId": "bab17b34-eb36-41e0-cba8-cff7032b3c81"
      },
      "execution_count": 10,
      "outputs": [
        {
          "output_type": "stream",
          "name": "stdout",
          "text": [
            "25\n"
          ]
        }
      ]
    },
    {
      "cell_type": "markdown",
      "source": [
        "#3. Inheritance\n",
        "A child class gets properties and methods from a parent class."
      ],
      "metadata": {
        "id": "5kM86MxLxmVS"
      }
    },
    {
      "cell_type": "code",
      "source": [
        "class Animal:\n",
        "    def eat(self):\n",
        "        print(\"This animal eats food\")\n",
        "\n",
        "class Dog(Animal):\n",
        "    def bark(self):\n",
        "        print(\"Woof woof\")\n",
        "\n",
        "d = Dog()\n",
        "d.eat()\n",
        "d.bark()\n",
        "\n"
      ],
      "metadata": {
        "colab": {
          "base_uri": "https://localhost:8080/"
        },
        "id": "BCgoXOgKx4Wu",
        "outputId": "2665978f-35d9-4813-ad95-41b745e24095"
      },
      "execution_count": 12,
      "outputs": [
        {
          "output_type": "stream",
          "name": "stdout",
          "text": [
            "This animal eats food\n",
            "Woof woof\n"
          ]
        }
      ]
    },
    {
      "cell_type": "markdown",
      "source": [
        "# 4. Polymorphism\n",
        "Same method name works differently depending on the object."
      ],
      "metadata": {
        "id": "GyjUbTZNygQU"
      }
    },
    {
      "cell_type": "code",
      "source": [
        "class Cat:\n",
        "    def sound(self):\n",
        "        print(\"Meow\")\n",
        "\n",
        "class Dog:\n",
        "    def sound(self):\n",
        "        print(\"Woof\")\n",
        "\n",
        "for animal in [Cat(), Dog()]:\n",
        "    animal.sound()\n"
      ],
      "metadata": {
        "colab": {
          "base_uri": "https://localhost:8080/"
        },
        "id": "V_LKpHnzy0L1",
        "outputId": "f6a7ceb9-1434-4842-d740-60aad1e0706f"
      },
      "execution_count": 13,
      "outputs": [
        {
          "output_type": "stream",
          "name": "stdout",
          "text": [
            "Meow\n",
            "Woof\n"
          ]
        }
      ]
    }
  ]
}