{
  "nbformat": 4,
  "nbformat_minor": 0,
  "metadata": {
    "colab": {
      "provenance": [],
      "authorship_tag": "ABX9TyO/ljjambbV2wWufSaDPo8P",
      "include_colab_link": true
    },
    "kernelspec": {
      "name": "python3",
      "display_name": "Python 3"
    },
    "language_info": {
      "name": "python"
    }
  },
  "cells": [
    {
      "cell_type": "markdown",
      "metadata": {
        "id": "view-in-github",
        "colab_type": "text"
      },
      "source": [
        "<a href=\"https://colab.research.google.com/github/Charan4311/Khub_9_/blob/main/data_preprocessing_.ipynb\" target=\"_parent\"><img src=\"https://colab.research.google.com/assets/colab-badge.svg\" alt=\"Open In Colab\"/></a>"
      ]
    },
    {
      "cell_type": "markdown",
      "source": [
        "# Importing the Libraries"
      ],
      "metadata": {
        "id": "Vwsy5nirtJ9K"
      }
    },
    {
      "cell_type": "code",
      "source": [
        "import numpy as np\n",
        "import pandas as pd\n",
        "from sklearn.model_selection import train_test_split\n",
        "from sklearn.preprocessing import StandardScaler, LabelEncoder, OneHotEncoder\n",
        "from sklearn.impute import SimpleImputer\n",
        "from sklearn.compose import ColumnTransformer"
      ],
      "metadata": {
        "id": "8PtO7zV-tLf0"
      },
      "execution_count": 17,
      "outputs": []
    },
    {
      "cell_type": "markdown",
      "source": [
        "# Importing the Dataset"
      ],
      "metadata": {
        "id": "bd9UgDXatUOh"
      }
    },
    {
      "cell_type": "code",
      "source": [
        "dataset = pd.read_csv(\"Data1.csv\")\n",
        "print(dataset.head())\n",
        "\n"
      ],
      "metadata": {
        "colab": {
          "base_uri": "https://localhost:8080/"
        },
        "id": "RgSYD4B2tZTF",
        "outputId": "2b1a9cba-164e-49d5-815f-2951779d942c"
      },
      "execution_count": 6,
      "outputs": [
        {
          "output_type": "stream",
          "name": "stdout",
          "text": [
            "   Country   Age    Salary Purchased\n",
            "0    Italy  29.0  109022.0       Yes\n",
            "1       UK  53.0   38743.0       Yes\n",
            "2  Germany  21.0   68368.0       Yes\n",
            "3       UK  22.0  110025.0       Yes\n",
            "4       UK  54.0   94172.0        No\n"
          ]
        }
      ]
    },
    {
      "cell_type": "code",
      "source": [
        "print(dataset.tail())"
      ],
      "metadata": {
        "colab": {
          "base_uri": "https://localhost:8080/"
        },
        "id": "0oH9gINkLnF2",
        "outputId": "6e706400-e149-4ae7-d535-f837031295d9"
      },
      "execution_count": 7,
      "outputs": [
        {
          "output_type": "stream",
          "name": "stdout",
          "text": [
            "     Country   Age   Salary Purchased\n",
            "995    Spain  27.0  70100.0        No\n",
            "996   France   NaN  28179.0        No\n",
            "997   France  30.0  68781.0        No\n",
            "998    Italy  48.0      NaN       Yes\n",
            "999  Germany  24.0      NaN        No\n"
          ]
        }
      ]
    },
    {
      "cell_type": "code",
      "source": [
        "print(dataset.info())"
      ],
      "metadata": {
        "colab": {
          "base_uri": "https://localhost:8080/"
        },
        "id": "gUjemqrhLJq9",
        "outputId": "47de250d-bde7-4c20-b339-9c8be2fd4ed0"
      },
      "execution_count": 8,
      "outputs": [
        {
          "output_type": "stream",
          "name": "stdout",
          "text": [
            "<class 'pandas.core.frame.DataFrame'>\n",
            "RangeIndex: 1000 entries, 0 to 999\n",
            "Data columns (total 4 columns):\n",
            " #   Column     Non-Null Count  Dtype  \n",
            "---  ------     --------------  -----  \n",
            " 0   Country    1000 non-null   object \n",
            " 1   Age        900 non-null    float64\n",
            " 2   Salary     900 non-null    float64\n",
            " 3   Purchased  1000 non-null   object \n",
            "dtypes: float64(2), object(2)\n",
            "memory usage: 31.4+ KB\n",
            "None\n"
          ]
        }
      ]
    },
    {
      "cell_type": "code",
      "source": [],
      "metadata": {
        "id": "ssU5QmM9LVSU"
      },
      "execution_count": 8,
      "outputs": []
    },
    {
      "cell_type": "markdown",
      "source": [
        "# Separating Features (X) and Target (y)"
      ],
      "metadata": {
        "id": "BqcxDARAtc3k"
      }
    },
    {
      "cell_type": "code",
      "source": [
        "X = dataset.iloc[:, :-1].values\n",
        "y = dataset.iloc[:, -1].values\n",
        "\n",
        "print(\" Features (X):\", X[:5] )\n",
        "print(\" Target (y):\", y[:5] )\n",
        "\n"
      ],
      "metadata": {
        "colab": {
          "base_uri": "https://localhost:8080/"
        },
        "id": "43L6Xfnvtj6u",
        "outputId": "61b2d360-d317-44b5-b467-3e8fbb8489d0"
      },
      "execution_count": 9,
      "outputs": [
        {
          "output_type": "stream",
          "name": "stdout",
          "text": [
            " Features (X): [['Italy' 29.0 109022.0]\n",
            " ['UK' 53.0 38743.0]\n",
            " ['Germany' 21.0 68368.0]\n",
            " ['UK' 22.0 110025.0]\n",
            " ['UK' 54.0 94172.0]]\n",
            " Target (y): ['Yes' 'Yes' 'Yes' 'Yes' 'No']\n"
          ]
        }
      ]
    },
    {
      "cell_type": "markdown",
      "source": [
        "# Taking care of missing data"
      ],
      "metadata": {
        "id": "kkeUXvCDttMX"
      }
    },
    {
      "cell_type": "code",
      "source": [
        "imputer = SimpleImputer(missing_values=np.nan, strategy='mean')\n",
        "X[:, 1:3] = imputer.fit_transform(X[:, 1:3])\n",
        "\n",
        "print(\" After Handling Missing Data:\", X[:5])"
      ],
      "metadata": {
        "colab": {
          "base_uri": "https://localhost:8080/"
        },
        "id": "DGsZJSKYtuju",
        "outputId": "6909e0d8-0cc6-4ef2-c7f2-195b7292f301"
      },
      "execution_count": 14,
      "outputs": [
        {
          "output_type": "stream",
          "name": "stdout",
          "text": [
            " After Handling Missing Data: [['Italy' 29.0 109022.0]\n",
            " ['UK' 53.0 38743.0]\n",
            " ['Germany' 21.0 68368.0]\n",
            " ['UK' 22.0 110025.0]\n",
            " ['UK' 54.0 94172.0]]\n"
          ]
        }
      ]
    },
    {
      "cell_type": "markdown",
      "source": [
        "# Encoding Categorical Data"
      ],
      "metadata": {
        "id": "52xlEh4ktx2m"
      }
    },
    {
      "cell_type": "code",
      "source": [
        "\n",
        "ct = ColumnTransformer(transformers=[('encoder', OneHotEncoder(), [0])],\n",
        "                       remainder='passthrough')\n",
        "X = np.array(ct.fit_transform(X))\n",
        "\n",
        "\n",
        "\n",
        "le = LabelEncoder()\n",
        "y = le.fit_transform(y)\n",
        "\n",
        "print(\" Encoded Target (y):\\n\", y[:5], \"\\n\")\n",
        "\n"
      ],
      "metadata": {
        "colab": {
          "base_uri": "https://localhost:8080/"
        },
        "id": "H_F4CRBZt1h_",
        "outputId": "5d235308-c173-4cc9-8103-41e5c5f0d7a9"
      },
      "execution_count": 18,
      "outputs": [
        {
          "output_type": "stream",
          "name": "stdout",
          "text": [
            " Encoded Target (y):\n",
            " [1 1 1 1 0] \n",
            "\n"
          ]
        }
      ]
    },
    {
      "cell_type": "markdown",
      "source": [
        "# Splitting Dataset into Training & Test Sets"
      ],
      "metadata": {
        "id": "ElrFO9gTuLIa"
      }
    },
    {
      "cell_type": "code",
      "source": [
        "X_train, X_test, y_train, y_test = train_test_split(\n",
        "    X, y, test_size=0.2, random_state=1\n",
        ")\n",
        "\n",
        "print( X_train[:5], \"\\n\")\n",
        "print( X_test[:5], \"\\n\")\n"
      ],
      "metadata": {
        "colab": {
          "base_uri": "https://localhost:8080/"
        },
        "id": "L3Oo46a86baW",
        "outputId": "1ece16e7-d6e6-47e0-ca4c-4730b8ae9e1e"
      },
      "execution_count": 19,
      "outputs": [
        {
          "output_type": "stream",
          "name": "stdout",
          "text": [
            "[[1.0 0.0 0.0 0.0 0.0 39.02111111111111 112260.0]\n",
            " [0.0 0.0 0.0 0.0 1.0 48.0 113812.0]\n",
            " [0.0 0.0 1.0 0.0 0.0 59.0 75296.0]\n",
            " [0.0 0.0 0.0 0.0 1.0 24.0 61621.0]\n",
            " [1.0 0.0 0.0 0.0 0.0 21.0 69131.59555555556]] \n",
            "\n",
            "[[0.0 0.0 1.0 0.0 0.0 27.0 66486.0]\n",
            " [0.0 0.0 0.0 0.0 1.0 23.0 116468.0]\n",
            " [0.0 0.0 0.0 0.0 1.0 51.0 109489.0]\n",
            " [0.0 0.0 1.0 0.0 0.0 41.0 48602.0]\n",
            " [1.0 0.0 0.0 0.0 0.0 19.0 75099.0]] \n",
            "\n"
          ]
        }
      ]
    },
    {
      "cell_type": "markdown",
      "source": [
        "# Feature Scaling"
      ],
      "metadata": {
        "id": "K-IujWcy7J71"
      }
    },
    {
      "cell_type": "code",
      "source": [
        "sc = StandardScaler()\n",
        "X_train[:, 2:] = sc.fit_transform(X_train[:, 2:])\n",
        "X_test[:, 2:] = sc.transform(X_test[:, 2:])\n",
        "\n",
        "print( X_train[:5], \"\\n\")\n",
        "print( X_test[:5], \"\\n\")\n",
        "\n"
      ],
      "metadata": {
        "colab": {
          "base_uri": "https://localhost:8080/"
        },
        "id": "YvpLzGS07Szz",
        "outputId": "a5d8adbf-39e1-4c5d-ea2a-1d2bbb118fcf"
      },
      "execution_count": 20,
      "outputs": [
        {
          "output_type": "stream",
          "name": "stdout",
          "text": [
            "[[1.0 0.0 -0.5272146351966084 -0.4665361852810153 -0.513637094426537\n",
            "  -0.010651336552110346 1.5531361821338794]\n",
            " [0.0 0.0 -0.5272146351966084 -0.4665361852810153 1.9468998848622632\n",
            "  0.7637386830400456 1.60955476743711]\n",
            " [0.0 0.0 1.8967606990406713 -0.4665361852810153 -0.513637094426537\n",
            "  1.71244072411941 0.2094141543319347]\n",
            " [0.0 0.0 -0.5272146351966084 -0.4665361852810153 1.9468998848622632\n",
            "  -1.3061566793149313 -0.2877019242902813]\n",
            " [1.0 0.0 -0.5272146351966084 -0.4665361852810153 -0.513637094426537\n",
            "  -1.5648935996093032 -0.01467539334364717]] \n",
            "\n",
            "[[0.0 0.0 1.8967606990406713 -0.4665361852810153 -0.513637094426537\n",
            "  -1.0474197590205592 -0.11084856249890426]\n",
            " [0.0 0.0 -0.5272146351966084 -0.4665361852810153 1.9468998848622632\n",
            "  -1.3924023194130553 1.7061061608426387]\n",
            " [0.0 0.0 -0.5272146351966084 -0.4665361852810153 1.9468998848622632\n",
            "  1.0224756033344176 1.452404287884361]\n",
            " [0.0 0.0 1.8967606990406713 -0.4665361852810153 -0.513637094426537\n",
            "  0.16001920235317735 -0.7609709720111317]\n",
            " [1.0 0.0 -0.5272146351966084 -0.4665361852810153 -0.513637094426537\n",
            "  -1.7373848798055513 0.20225277462527463]] \n",
            "\n"
          ]
        }
      ]
    }
  ]
}