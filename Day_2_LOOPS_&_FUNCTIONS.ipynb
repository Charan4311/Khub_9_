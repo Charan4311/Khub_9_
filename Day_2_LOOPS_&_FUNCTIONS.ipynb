{
  "nbformat": 4,
  "nbformat_minor": 0,
  "metadata": {
    "colab": {
      "provenance": [],
      "authorship_tag": "ABX9TyOHKI16jskwmYlnnfgVcZaw",
      "include_colab_link": true
    },
    "kernelspec": {
      "name": "python3",
      "display_name": "Python 3"
    },
    "language_info": {
      "name": "python"
    }
  },
  "cells": [
    {
      "cell_type": "markdown",
      "metadata": {
        "id": "view-in-github",
        "colab_type": "text"
      },
      "source": [
        "<a href=\"https://colab.research.google.com/github/Charan4311/Khub_9_/blob/main/Day_2_LOOPS_%26_FUNCTIONS.ipynb\" target=\"_parent\"><img src=\"https://colab.research.google.com/assets/colab-badge.svg\" alt=\"Open In Colab\"/></a>"
      ]
    },
    {
      "cell_type": "code",
      "execution_count": null,
      "metadata": {
        "id": "2MVc5LlPJmFN"
      },
      "outputs": [],
      "source": []
    },
    {
      "cell_type": "markdown",
      "source": [
        "# Types of Loops in Python:\n",
        "1️⃣ for loop – Use when you know how many times to repeat\n",
        "\n",
        "2️⃣ while loop – Use when you want to repeat until a condition becomes false"
      ],
      "metadata": {
        "id": "80rT_Rt7TX5K"
      }
    },
    {
      "cell_type": "markdown",
      "source": [
        "# for Loop:\n",
        "The for loop in Python is used to iterate (go through) over a sequence (like a list, tuple, string, or a range of numbers) and execute a block of code for each item in the sequence."
      ],
      "metadata": {
        "id": "9u52C9qnUSRm"
      }
    },
    {
      "cell_type": "code",
      "source": [
        "for i in range(1, 6):\n",
        "    print(i)\n"
      ],
      "metadata": {
        "colab": {
          "base_uri": "https://localhost:8080/"
        },
        "id": "5Y-VyKA7UbLn",
        "outputId": "a4f0131e-008c-488a-ef12-9f4c9f7dc9fe"
      },
      "execution_count": null,
      "outputs": [
        {
          "output_type": "stream",
          "name": "stdout",
          "text": [
            "1\n",
            "2\n",
            "3\n",
            "4\n",
            "5\n"
          ]
        }
      ]
    },
    {
      "cell_type": "markdown",
      "source": [
        "# Example 1:\n",
        " Using for with range()\n",
        "\n",
        "Print numbers from 1 to 5:"
      ],
      "metadata": {
        "id": "JmpXa4ybUlO9"
      }
    },
    {
      "cell_type": "code",
      "source": [
        "for i in range (1,8):\n",
        "  print(i)\n",
        "\n"
      ],
      "metadata": {
        "colab": {
          "base_uri": "https://localhost:8080/"
        },
        "id": "arNAO2qmWTy6",
        "outputId": "ebf7a5a6-bae8-43b2-bbc6-4c5f250a21cf"
      },
      "execution_count": null,
      "outputs": [
        {
          "output_type": "stream",
          "name": "stdout",
          "text": [
            "1\n",
            "2\n",
            "3\n",
            "4\n",
            "5\n",
            "6\n",
            "7\n"
          ]
        }
      ]
    },
    {
      "cell_type": "markdown",
      "source": [
        "## Example :2\n",
        " Iterating Over Lists, Strings, Tuples."
      ],
      "metadata": {
        "id": "arlaSzQvWZNm"
      }
    },
    {
      "cell_type": "markdown",
      "source": [
        "# Iterating Over a List\n",
        "A list is a collection of items in square brackets [].\n",
        "\n",
        "\n"
      ],
      "metadata": {
        "id": "fBUA7LzkWrfl"
      }
    },
    {
      "cell_type": "code",
      "source": [
        "fruits = [\"apple\", \"banana\", \"cherry\"]\n",
        "\n",
        "for fruit in fruits:\n",
        "    print(fruit)\n"
      ],
      "metadata": {
        "colab": {
          "base_uri": "https://localhost:8080/"
        },
        "id": "Rfr1td-KWyni",
        "outputId": "62fb0637-17aa-40c5-e3d4-79693a646f82"
      },
      "execution_count": null,
      "outputs": [
        {
          "output_type": "stream",
          "name": "stdout",
          "text": [
            "apple\n",
            "banana\n",
            "cherry\n"
          ]
        }
      ]
    },
    {
      "cell_type": "markdown",
      "source": [
        "# Iterating Over a String\n",
        "A string is a sequence of characters.\n",
        "\n",
        "\n"
      ],
      "metadata": {
        "id": "iLgnQ7HjYr0J"
      }
    },
    {
      "cell_type": "code",
      "source": [
        "text = \"hello\"\n",
        "\n",
        "for char in text:\n",
        "    print(char)\n"
      ],
      "metadata": {
        "colab": {
          "base_uri": "https://localhost:8080/"
        },
        "id": "wJEjLHTDWldm",
        "outputId": "f300de50-4338-407d-c59f-f93a5b125f65"
      },
      "execution_count": null,
      "outputs": [
        {
          "output_type": "stream",
          "name": "stdout",
          "text": [
            "h\n",
            "e\n",
            "l\n",
            "l\n",
            "o\n"
          ]
        }
      ]
    },
    {
      "cell_type": "markdown",
      "source": [
        "# Iterating Over a Tuple\n",
        "A tuple is like a list but with () and it's immutable."
      ],
      "metadata": {
        "id": "QaXXg4a-Z4yx"
      }
    },
    {
      "cell_type": "code",
      "source": [
        "colors = (\"red\", \"green\", \"blue\")\n",
        "\n",
        "for color in colors:\n",
        "    print(color)\n"
      ],
      "metadata": {
        "colab": {
          "base_uri": "https://localhost:8080/"
        },
        "id": "GQAsHS6haxzt",
        "outputId": "05f40726-fcf2-408a-c743-21bb634e9710"
      },
      "execution_count": null,
      "outputs": [
        {
          "output_type": "stream",
          "name": "stdout",
          "text": [
            "red\n",
            "green\n",
            "blue\n"
          ]
        }
      ]
    },
    {
      "cell_type": "markdown",
      "source": [
        "# Iterating Over a Set\n",
        "A set is an unordered collection (no duplicate items)."
      ],
      "metadata": {
        "id": "b2o9GHQabwdh"
      }
    },
    {
      "cell_type": "code",
      "source": [
        "numbers = {1, 2, 3, 4}\n",
        "\n",
        "for num in numbers:\n",
        "    print(num)\n"
      ],
      "metadata": {
        "colab": {
          "base_uri": "https://localhost:8080/"
        },
        "id": "BC_baw_bb2k9",
        "outputId": "d78c8ab7-ae7e-4846-fbc1-ab7806e2c1cf"
      },
      "execution_count": null,
      "outputs": [
        {
          "output_type": "stream",
          "name": "stdout",
          "text": [
            "1\n",
            "2\n",
            "3\n",
            "4\n"
          ]
        }
      ]
    },
    {
      "cell_type": "markdown",
      "source": [
        "# Iterating Over a Dictionary\n",
        "A dictionary stores data as key-value pairs."
      ],
      "metadata": {
        "id": "T_Lyp6YecKfC"
      }
    },
    {
      "cell_type": "code",
      "source": [
        "student = {\"name\": \"Charan\", \"age\": 18, \"grade\": \"A\"}\n",
        "\n",
        "# Loop through keys\n",
        "for key in student:\n",
        "    print(key, \":\", student[key])\n"
      ],
      "metadata": {
        "colab": {
          "base_uri": "https://localhost:8080/"
        },
        "id": "oO4IxXu8cNKd",
        "outputId": "91d38a90-027d-42d2-a05f-e503aae82114"
      },
      "execution_count": null,
      "outputs": [
        {
          "output_type": "stream",
          "name": "stdout",
          "text": [
            "name : Charan\n",
            "age : 18\n",
            "grade : A\n"
          ]
        }
      ]
    },
    {
      "cell_type": "markdown",
      "source": [
        "# while Loop\n",
        "A while loop is used to repeat a block of code as long as a condition is true.\n",
        "\n",
        "It's useful when you don’t know in advance how many times to repeat.\n",
        "\n"
      ],
      "metadata": {
        "id": "Lf9cZjpKc7nE"
      }
    },
    {
      "cell_type": "code",
      "source": [
        "i = 1\n",
        "while i <= 5:\n",
        "    print(i)\n",
        "    i += 1\n"
      ],
      "metadata": {
        "colab": {
          "base_uri": "https://localhost:8080/"
        },
        "id": "OqqtTs-GeqwF",
        "outputId": "2c5d8d66-1e7f-43f2-a34e-6c6527be7cc0"
      },
      "execution_count": null,
      "outputs": [
        {
          "output_type": "stream",
          "name": "stdout",
          "text": [
            "1\n",
            "2\n",
            "3\n",
            "4\n",
            "5\n"
          ]
        }
      ]
    },
    {
      "cell_type": "markdown",
      "source": [
        "# Loop until user enters \"stop\""
      ],
      "metadata": {
        "id": "DA4R4taYgie2"
      }
    },
    {
      "cell_type": "code",
      "source": [
        "command = \"\"\n",
        "\n",
        "while command != \"stop\":\n",
        "    command = input(\"Type 'stop' to end: \")\n"
      ],
      "metadata": {
        "colab": {
          "base_uri": "https://localhost:8080/"
        },
        "id": "HhahulfJgmCC",
        "outputId": "a2acebe8-f789-4ad2-b77d-d63668f4c811"
      },
      "execution_count": null,
      "outputs": [
        {
          "name": "stdout",
          "output_type": "stream",
          "text": [
            "Type 'stop' to end: stop\n"
          ]
        }
      ]
    },
    {
      "cell_type": "markdown",
      "source": [
        "# Loop Control Statements\n",
        "These are special statements used inside loops (for or while) to control the flow of the loop.\n",
        "\n"
      ],
      "metadata": {
        "id": "Cn0qTm-ClOEz"
      }
    },
    {
      "cell_type": "markdown",
      "source": [
        "# break – Stop the loop completely\n",
        " Use it when you want to exit the loop early, even if the condition or range isn't finished."
      ],
      "metadata": {
        "id": "gpagqsH-lP-N"
      }
    },
    {
      "cell_type": "code",
      "source": [
        "for i in range(1,18):\n",
        "  if i  == 7:\n",
        "    break\n",
        "\n",
        "  print(i)"
      ],
      "metadata": {
        "colab": {
          "base_uri": "https://localhost:8080/"
        },
        "id": "LL6nRYD1mnCn",
        "outputId": "c78aa107-9dc4-4dd5-f340-227a675c9097"
      },
      "execution_count": null,
      "outputs": [
        {
          "output_type": "stream",
          "name": "stdout",
          "text": [
            "1\n",
            "2\n",
            "3\n",
            "4\n",
            "5\n",
            "6\n"
          ]
        }
      ]
    },
    {
      "cell_type": "markdown",
      "source": [
        "# Continue - Skip the ireation\n",
        "use it to skip the rest of the code inside the loop for one particular cycle and move to the next."
      ],
      "metadata": {
        "id": "XosUEPjUnP-Q"
      }
    },
    {
      "cell_type": "code",
      "source": [
        "for i in range(1,15):\n",
        "  if i == 8:\n",
        "    continue\n",
        "  print(i)"
      ],
      "metadata": {
        "colab": {
          "base_uri": "https://localhost:8080/"
        },
        "id": "nAwzyu8Dncaj",
        "outputId": "35079fd1-0b16-4f4c-ccbd-cb8b5827a862"
      },
      "execution_count": null,
      "outputs": [
        {
          "output_type": "stream",
          "name": "stdout",
          "text": [
            "1\n",
            "2\n",
            "3\n",
            "4\n",
            "5\n",
            "6\n",
            "7\n",
            "9\n",
            "10\n",
            "11\n",
            "12\n",
            "13\n",
            "14\n"
          ]
        }
      ]
    },
    {
      "cell_type": "markdown",
      "source": [
        "# Pass - Do nothing (used as placeholder)\n",
        "Use it when a statement is required syntactically but you don’t want to run any code yet."
      ],
      "metadata": {
        "id": "6CeD2gBsnxmY"
      }
    },
    {
      "cell_type": "code",
      "source": [
        "for i in range(1,13):\n",
        "  if i == 7:\n",
        "    pass\n",
        "  print(i)"
      ],
      "metadata": {
        "colab": {
          "base_uri": "https://localhost:8080/"
        },
        "id": "se2jPXv0oD7l",
        "outputId": "38f72918-e2a9-41ec-9d1a-b3e41112dc66"
      },
      "execution_count": null,
      "outputs": [
        {
          "output_type": "stream",
          "name": "stdout",
          "text": [
            "1\n",
            "2\n",
            "3\n",
            "4\n",
            "5\n",
            "6\n",
            "7\n",
            "8\n",
            "9\n",
            "10\n",
            "11\n",
            "12\n"
          ]
        }
      ]
    },
    {
      "cell_type": "markdown",
      "source": [
        "# Loop with else\n",
        "An else block can be added to a for or while loop.\n",
        "It runs only if the loop finishes naturally — that means no break occurred.\n",
        "\n",
        "example : for loop with else"
      ],
      "metadata": {
        "id": "QM01PSa1o0Gc"
      }
    },
    {
      "cell_type": "code",
      "source": [
        "for i in range(1,8):\n",
        " print(i)\n",
        "else:\n",
        "  print(\"virat scored 100 centuries\")\n",
        "\n",
        "\n"
      ],
      "metadata": {
        "colab": {
          "base_uri": "https://localhost:8080/"
        },
        "id": "5ruwx1oXpJS_",
        "outputId": "3c6a3e53-4df5-411c-b017-0a9a59acd3dc"
      },
      "execution_count": null,
      "outputs": [
        {
          "output_type": "stream",
          "name": "stdout",
          "text": [
            "1\n",
            "2\n",
            "3\n",
            "4\n",
            "5\n",
            "6\n",
            "7\n",
            "virat scored 100 centuries\n"
          ]
        }
      ]
    },
    {
      "cell_type": "markdown",
      "source": [
        "for loop with break"
      ],
      "metadata": {
        "id": "reYPMJp2r0nr"
      }
    },
    {
      "cell_type": "code",
      "source": [
        "for i in range (1,7):\n",
        "  if i == 5:\n",
        "    break\n",
        "  print(i)\n",
        "else:\n",
        "\n",
        "  print(\"virat scored 100 centuries\")\n",
        "\n",
        "\n",
        "\n",
        "\n",
        "\n"
      ],
      "metadata": {
        "colab": {
          "base_uri": "https://localhost:8080/"
        },
        "id": "tk7-0lpAsLw4",
        "outputId": "71a9972d-7941-485e-ad9b-9e181ed6b8ba"
      },
      "execution_count": null,
      "outputs": [
        {
          "output_type": "stream",
          "name": "stdout",
          "text": [
            "1\n",
            "2\n",
            "3\n",
            "4\n"
          ]
        }
      ]
    },
    {
      "cell_type": "markdown",
      "source": [
        "# while loop else\n"
      ],
      "metadata": {
        "id": "u_zwYAwCteZE"
      }
    },
    {
      "cell_type": "code",
      "source": [
        "x = 1\n",
        "while x <=5:\n",
        "  print(x)\n",
        "  x +=1\n",
        "else:\n",
        "  print(\"while loop with else\")"
      ],
      "metadata": {
        "colab": {
          "base_uri": "https://localhost:8080/"
        },
        "id": "gyGf9dX_tiXG",
        "outputId": "83b7735b-4380-4838-a421-32f852e6bcbb"
      },
      "execution_count": null,
      "outputs": [
        {
          "output_type": "stream",
          "name": "stdout",
          "text": [
            "1\n",
            "2\n",
            "3\n",
            "4\n",
            "5\n",
            "while loop with else\n"
          ]
        }
      ]
    },
    {
      "cell_type": "markdown",
      "source": [
        "# Nested Loops\n",
        "A nested loop is a loop inside another loop.\n",
        "\n",
        "The outer loop runs first.\n",
        "\n",
        "For each iteration of the outer loop, the inner loop runs completely."
      ],
      "metadata": {
        "id": "_mBWcE7wuBjC"
      }
    },
    {
      "cell_type": "code",
      "source": [
        "for over in range(1, 3):\n",
        "    print(\"Over:\", over)\n",
        "\n",
        "    for ball in range(1, 7):\n",
        "        print(\"  Ball:\", ball)\n"
      ],
      "metadata": {
        "colab": {
          "base_uri": "https://localhost:8080/"
        },
        "id": "Fd46F3MDwMYU",
        "outputId": "10ef34e6-c256-44b9-96cc-25a533e736e2"
      },
      "execution_count": null,
      "outputs": [
        {
          "output_type": "stream",
          "name": "stdout",
          "text": [
            "Over: 1\n",
            "  Ball: 1\n",
            "  Ball: 2\n",
            "  Ball: 3\n",
            "  Ball: 4\n",
            "  Ball: 5\n",
            "  Ball: 6\n",
            "Over: 2\n",
            "  Ball: 1\n",
            "  Ball: 2\n",
            "  Ball: 3\n",
            "  Ball: 4\n",
            "  Ball: 5\n",
            "  Ball: 6\n"
          ]
        }
      ]
    },
    {
      "cell_type": "code",
      "source": [
        "x = 18\n",
        "for i in range(1,x+1):\n",
        "  print(i*'*')\n",
        "  print()"
      ],
      "metadata": {
        "colab": {
          "base_uri": "https://localhost:8080/"
        },
        "id": "HbtyV3VAZFQT",
        "outputId": "fea68c36-18bc-452f-b791-a234e907b08f"
      },
      "execution_count": null,
      "outputs": [
        {
          "output_type": "stream",
          "name": "stdout",
          "text": [
            "*\n",
            "\n",
            "**\n",
            "\n",
            "***\n",
            "\n",
            "****\n",
            "\n",
            "*****\n",
            "\n",
            "******\n",
            "\n",
            "*******\n",
            "\n",
            "********\n",
            "\n",
            "*********\n",
            "\n",
            "**********\n",
            "\n",
            "***********\n",
            "\n",
            "************\n",
            "\n",
            "*************\n",
            "\n",
            "**************\n",
            "\n",
            "***************\n",
            "\n",
            "****************\n",
            "\n",
            "*****************\n",
            "\n",
            "******************\n",
            "\n"
          ]
        }
      ]
    },
    {
      "cell_type": "markdown",
      "source": [
        "# Functions\n",
        "A function is a reusable block of code that performs a specific task.\n",
        "It is defined using the def keyword, and it can be called (used) whenever needed."
      ],
      "metadata": {
        "id": "2gdO_SNZhDG7"
      }
    },
    {
      "cell_type": "code",
      "source": [
        "def say_hello():\n",
        "    print(\"Hello, welcome to Python!\")\n",
        "\n",
        "# Calling the function\n",
        "say_hello()\n"
      ],
      "metadata": {
        "colab": {
          "base_uri": "https://localhost:8080/"
        },
        "id": "FQaHkiP0iAJT",
        "outputId": "7ce7827c-3e82-4434-9b28-259a046cbffd"
      },
      "execution_count": 2,
      "outputs": [
        {
          "output_type": "stream",
          "name": "stdout",
          "text": [
            "Hello, welcome to Python!\n"
          ]
        }
      ]
    },
    {
      "cell_type": "markdown",
      "source": [
        "# 1. Defining and Calling Functions\n",
        " def keyword\n",
        " Definition:\n",
        "def is used to define a function in Python.\n",
        "\n"
      ],
      "metadata": {
        "id": "SUxfbUayicOj"
      }
    },
    {
      "cell_type": "code",
      "source": [
        "def greet():\n",
        "    print(\"Hello, welcome!\")\n",
        "\n",
        "greet()  # Calling the function\n"
      ],
      "metadata": {
        "colab": {
          "base_uri": "https://localhost:8080/"
        },
        "id": "JeIAtc_vikuI",
        "outputId": "fcdae2d6-8f5a-4bb6-885e-0ef8ce7bfff6"
      },
      "execution_count": 3,
      "outputs": [
        {
          "output_type": "stream",
          "name": "stdout",
          "text": [
            "Hello, welcome!\n"
          ]
        }
      ]
    },
    {
      "cell_type": "markdown",
      "source": [
        "# return keyword\n",
        " Definition:\n",
        "return sends a value back from the function."
      ],
      "metadata": {
        "id": "uNgjVVHkis2M"
      }
    },
    {
      "cell_type": "code",
      "source": [
        "def add(a, b):\n",
        "    return a + b\n",
        "\n",
        "result = add(5, 3)\n",
        "print(result)  # Output: 8\n"
      ],
      "metadata": {
        "colab": {
          "base_uri": "https://localhost:8080/"
        },
        "id": "YEjht-okiwRe",
        "outputId": "8c56588c-0de9-42b5-edfa-a0f4e4ba9dbb"
      },
      "execution_count": 4,
      "outputs": [
        {
          "output_type": "stream",
          "name": "stdout",
          "text": [
            "8\n"
          ]
        }
      ]
    },
    {
      "cell_type": "markdown",
      "source": [
        "# 2. Function Arguments\n",
        "🔹 a) Positional Arguments\n",
        " Definition: Arguments passed in order."
      ],
      "metadata": {
        "id": "slwr4IkWi6PP"
      }
    },
    {
      "cell_type": "code",
      "source": [
        "def full_name(first, last):\n",
        "    print(first, last)\n",
        "\n",
        "full_name(\"Charan\", \"Naidu\")\n"
      ],
      "metadata": {
        "colab": {
          "base_uri": "https://localhost:8080/"
        },
        "id": "fV9CVko4jO7I",
        "outputId": "1997a2b4-36de-48a0-ac7c-1b3334f08732"
      },
      "execution_count": 5,
      "outputs": [
        {
          "output_type": "stream",
          "name": "stdout",
          "text": [
            "Charan Naidu\n"
          ]
        }
      ]
    },
    {
      "cell_type": "markdown",
      "source": [
        "# b) Default Arguments\n",
        " Definition: Default values used if not passed."
      ],
      "metadata": {
        "id": "YARP6UWdjTSD"
      }
    },
    {
      "cell_type": "code",
      "source": [
        "def greet(name=\"Guest\"):\n",
        "    print(\"Hello\", name)\n",
        "\n",
        "greet()          # Hello Guest\n",
        "greet(\"Charan\")  # Hello Charan\n"
      ],
      "metadata": {
        "colab": {
          "base_uri": "https://localhost:8080/"
        },
        "id": "5qMJID5ejZiy",
        "outputId": "0284a8d0-5395-4b37-b739-faa0c9591bb1"
      },
      "execution_count": 6,
      "outputs": [
        {
          "output_type": "stream",
          "name": "stdout",
          "text": [
            "Hello Guest\n",
            "Hello Charan\n"
          ]
        }
      ]
    },
    {
      "cell_type": "markdown",
      "source": [
        "# c) Keyword Arguments\n",
        " Definition: You pass values by name."
      ],
      "metadata": {
        "id": "3Q47zptrjdA4"
      }
    },
    {
      "cell_type": "code",
      "source": [
        "def student(name, age):\n",
        "    print(name, \"is\", age, \"years old\")\n",
        "\n",
        "student(age=21, name=\"Charan\")\n"
      ],
      "metadata": {
        "colab": {
          "base_uri": "https://localhost:8080/"
        },
        "id": "jsAdCgtZjj9y",
        "outputId": "37e6393e-b49a-4a92-a409-3eb77852054f"
      },
      "execution_count": 7,
      "outputs": [
        {
          "output_type": "stream",
          "name": "stdout",
          "text": [
            "Charan is 21 years old\n"
          ]
        }
      ]
    },
    {
      "cell_type": "markdown",
      "source": [
        "# d) *args – Variable Positional Arguments\n",
        " Definition: Takes any number of values as a tuple"
      ],
      "metadata": {
        "id": "J29VjQqPjsUd"
      }
    },
    {
      "cell_type": "code",
      "source": [
        "def add_all(*nums):\n",
        "    print(sum(nums))\n",
        "\n",
        "add_all(1, 2, 3, 4)  # Output: 10\n"
      ],
      "metadata": {
        "colab": {
          "base_uri": "https://localhost:8080/"
        },
        "id": "IJ5ftgaMjvA1",
        "outputId": "40f31c14-576d-4ba6-eba5-4685dd470d72"
      },
      "execution_count": 8,
      "outputs": [
        {
          "output_type": "stream",
          "name": "stdout",
          "text": [
            "10\n"
          ]
        }
      ]
    },
    {
      "cell_type": "markdown",
      "source": [
        "# **kwargs – Variable Keyword Arguments\n",
        " Definition: Takes key-value pairs as a dictionary."
      ],
      "metadata": {
        "id": "y_uooCRSjzZj"
      }
    },
    {
      "cell_type": "code",
      "source": [
        "def print_details(**info):\n",
        "    for key, value in info.items():\n",
        "        print(key, \":\", value)\n",
        "\n",
        "print_details(name=\"Charan\", age=21)\n"
      ],
      "metadata": {
        "colab": {
          "base_uri": "https://localhost:8080/"
        },
        "id": "CfIW0NrEj83q",
        "outputId": "c6a256e7-9ab3-4520-f80c-c045f03e0f85"
      },
      "execution_count": 9,
      "outputs": [
        {
          "output_type": "stream",
          "name": "stdout",
          "text": [
            "name : Charan\n",
            "age : 21\n"
          ]
        }
      ]
    },
    {
      "cell_type": "markdown",
      "source": [
        "# 3. Scope of Variables\n",
        " a) Local Variable\n",
        " Defined inside function, used only there"
      ],
      "metadata": {
        "id": "FO92VgdAkC0B"
      }
    },
    {
      "cell_type": "code",
      "source": [
        "def show():\n",
        "    x = 10\n",
        "    print(x)\n",
        "\n",
        "show()\n",
        "# print(x)  # ❌ Error: x is local\n"
      ],
      "metadata": {
        "colab": {
          "base_uri": "https://localhost:8080/"
        },
        "id": "d4LByTpvkJvH",
        "outputId": "22cb475c-8ee0-441c-f32d-54225baae226"
      },
      "execution_count": 10,
      "outputs": [
        {
          "output_type": "stream",
          "name": "stdout",
          "text": [
            "10\n"
          ]
        }
      ]
    },
    {
      "cell_type": "markdown",
      "source": [
        "# b) Global Variable\n",
        " Defined outside, accessible anywhere."
      ],
      "metadata": {
        "id": "WGwIWQmpkPGB"
      }
    },
    {
      "cell_type": "code",
      "source": [
        "x = 50\n",
        "\n",
        "def show():\n",
        "    print(x)\n",
        "\n",
        "show()  # Output: 50\n"
      ],
      "metadata": {
        "colab": {
          "base_uri": "https://localhost:8080/"
        },
        "id": "zwJAtwSmkVgK",
        "outputId": "37eefd65-3c9a-4d14-d61f-6a2a5e1627c5"
      },
      "execution_count": 11,
      "outputs": [
        {
          "output_type": "stream",
          "name": "stdout",
          "text": [
            "50\n"
          ]
        }
      ]
    },
    {
      "cell_type": "markdown",
      "source": [
        "# c) global keyword\n",
        " Allows modifying global variable inside function."
      ],
      "metadata": {
        "id": "V6CUStgBkZez"
      }
    },
    {
      "cell_type": "code",
      "source": [
        "count = 0\n",
        "\n",
        "def increase():\n",
        "    global count\n",
        "    count += 1\n",
        "\n",
        "increase()\n",
        "print(count)  # Output: 1\n"
      ],
      "metadata": {
        "colab": {
          "base_uri": "https://localhost:8080/"
        },
        "id": "wHekX6vBkfYa",
        "outputId": "f521ad5f-2869-4eb5-ea18-a5716029cc42"
      },
      "execution_count": 12,
      "outputs": [
        {
          "output_type": "stream",
          "name": "stdout",
          "text": [
            "1\n"
          ]
        }
      ]
    },
    {
      "cell_type": "markdown",
      "source": [
        "# 4. Lambda Functions\n",
        " a) Anonymous one-line function"
      ],
      "metadata": {
        "id": "3RPmwts5ko3e"
      }
    },
    {
      "cell_type": "code",
      "source": [
        "square = lambda x: x * x\n",
        "print(square(4))  # Output: 16\n"
      ],
      "metadata": {
        "colab": {
          "base_uri": "https://localhost:8080/"
        },
        "id": "0gdUgOTxkomJ",
        "outputId": "b06ddaaf-a5d5-451e-829a-342bbb2fd2e3"
      },
      "execution_count": 13,
      "outputs": [
        {
          "output_type": "stream",
          "name": "stdout",
          "text": [
            "16\n"
          ]
        }
      ]
    },
    {
      "cell_type": "markdown",
      "source": [
        "Usage with map()"
      ],
      "metadata": {
        "id": "4jkuY2qcku_7"
      }
    },
    {
      "cell_type": "code",
      "source": [
        "nums = [1, 2, 3, 4]\n",
        "squares = list(map(lambda x: x**2, nums))\n",
        "print(squares)  # [1, 4, 9, 16]\n"
      ],
      "metadata": {
        "colab": {
          "base_uri": "https://localhost:8080/"
        },
        "id": "6taNjzcak05t",
        "outputId": "37adffa9-c457-41cd-f703-975327fe8e68"
      },
      "execution_count": 14,
      "outputs": [
        {
          "output_type": "stream",
          "name": "stdout",
          "text": [
            "[1, 4, 9, 16]\n"
          ]
        }
      ]
    },
    {
      "cell_type": "markdown",
      "source": [
        "c) Usage with filter()"
      ],
      "metadata": {
        "id": "W-HzhbWJk2jd"
      }
    },
    {
      "cell_type": "code",
      "source": [
        "nums = [1, 2, 3, 4, 5]\n",
        "even = list(filter(lambda x: x % 2 == 0, nums))\n",
        "print(even)  # [2, 4]\n"
      ],
      "metadata": {
        "colab": {
          "base_uri": "https://localhost:8080/"
        },
        "id": "EWU_RMYKk75i",
        "outputId": "7d0a968b-3569-497f-d2e0-9e96cdc0eb1b"
      },
      "execution_count": 15,
      "outputs": [
        {
          "output_type": "stream",
          "name": "stdout",
          "text": [
            "[2, 4]\n"
          ]
        }
      ]
    }
  ]
}